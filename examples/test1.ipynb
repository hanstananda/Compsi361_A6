{
 "cells": [
  {
   "cell_type": "code",
   "execution_count": null,
   "metadata": {},
   "outputs": [],
   "source": []
  }
 ],
 "metadata": {
  "kernelspec": {
   "display_name": "Python 3.7.0 64-bit",
   "language": "python",
   "name": "python37064bit1290ac741c56432dbd32fd3c60e0d98f"
  }
 },
 "nbformat": 4,
 "nbformat_minor": 4
}
