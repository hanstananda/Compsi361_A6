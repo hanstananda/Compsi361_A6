{
 "cells": [
  {
   "cell_type": "markdown",
   "metadata": {
    "colab_type": "text",
    "id": "view-in-github"
   },
   "source": [
    "<a href=\"https://colab.research.google.com/github/yunsing/Compsci361/blob/master/DataStreamEvaluation.ipynb\" target=\"_parent\"><img src=\"https://colab.research.google.com/assets/colab-badge.svg\" alt=\"Open In Colab\"/></a>"
   ]
  },
  {
   "cell_type": "markdown",
   "metadata": {
    "colab_type": "text",
    "id": "pGIf_ruuL-Fj"
   },
   "source": [
    "# **Data Stream Mining**\n",
    "\n",
    "Inspired by MOA and MEKA , following scikit-learn philosophy. When the installation is completed (and no errors were reported), then you will be ready to use scikit-multiflow."
   ]
  },
  {
   "cell_type": "code",
   "execution_count": 1,
   "metadata": {
    "colab": {},
    "colab_type": "code",
    "id": "-zzTQMfnorzl"
   },
   "outputs": [
    {
     "name": "stdout",
     "output_type": "stream",
     "text": [
      "Requirement already up-to-date: scikit-multiflow in d:\\users\\hans tananda\\.virtualenvs\\compsi361_a6\\lib\\site-packages (0.4.1)\n",
      "Requirement already satisfied, skipping upgrade: sortedcontainers>=1.5.7 in d:\\users\\hans tananda\\.virtualenvs\\compsi361_a6\\lib\\site-packages (from scikit-multiflow) (2.1.0)\n",
      "Requirement already satisfied, skipping upgrade: numpy>=1.11.0 in d:\\users\\hans tananda\\.virtualenvs\\compsi361_a6\\lib\\site-packages (from scikit-multiflow) (1.18.5)\n",
      "Requirement already satisfied, skipping upgrade: scipy>=1.0.0 in d:\\users\\hans tananda\\.virtualenvs\\compsi361_a6\\lib\\site-packages (from scikit-multiflow) (1.4.1)\n",
      "Requirement already satisfied, skipping upgrade: matplotlib>=2.0.0 in d:\\users\\hans tananda\\.virtualenvs\\compsi361_a6\\lib\\site-packages (from scikit-multiflow) (3.2.1)\n",
      "Requirement already satisfied, skipping upgrade: scikit-learn>=0.20 in d:\\users\\hans tananda\\.virtualenvs\\compsi361_a6\\lib\\site-packages (from scikit-multiflow) (0.23.1)\n",
      "Requirement already satisfied, skipping upgrade: pandas>=0.21.0 in d:\\users\\hans tananda\\.virtualenvs\\compsi361_a6\\lib\\site-packages (from scikit-multiflow) (1.0.4)\n",
      "Requirement already satisfied, skipping upgrade: python-dateutil>=2.1 in d:\\users\\hans tananda\\.virtualenvs\\compsi361_a6\\lib\\site-packages (from matplotlib>=2.0.0->scikit-multiflow) (2.8.1)\n",
      "Requirement already satisfied, skipping upgrade: cycler>=0.10 in d:\\users\\hans tananda\\.virtualenvs\\compsi361_a6\\lib\\site-packages (from matplotlib>=2.0.0->scikit-multiflow) (0.10.0)\n",
      "Requirement already satisfied, skipping upgrade: kiwisolver>=1.0.1 in d:\\users\\hans tananda\\.virtualenvs\\compsi361_a6\\lib\\site-packages (from matplotlib>=2.0.0->scikit-multiflow) (1.2.0)\n",
      "Requirement already satisfied, skipping upgrade: pyparsing!=2.0.4,!=2.1.2,!=2.1.6,>=2.0.1 in d:\\users\\hans tananda\\.virtualenvs\\compsi361_a6\\lib\\site-packages (from matplotlib>=2.0.0->scikit-multiflow) (2.4.7)\n",
      "Requirement already satisfied, skipping upgrade: threadpoolctl>=2.0.0 in d:\\users\\hans tananda\\.virtualenvs\\compsi361_a6\\lib\\site-packages (from scikit-learn>=0.20->scikit-multiflow) (2.1.0)\n",
      "Requirement already satisfied, skipping upgrade: joblib>=0.11 in d:\\users\\hans tananda\\.virtualenvs\\compsi361_a6\\lib\\site-packages (from scikit-learn>=0.20->scikit-multiflow) (0.15.1)\n",
      "Requirement already satisfied, skipping upgrade: pytz>=2017.2 in d:\\users\\hans tananda\\.virtualenvs\\compsi361_a6\\lib\\site-packages (from pandas>=0.21.0->scikit-multiflow) (2020.1)\n",
      "Requirement already satisfied, skipping upgrade: six>=1.5 in d:\\users\\hans tananda\\.virtualenvs\\compsi361_a6\\lib\\site-packages (from python-dateutil>=2.1->matplotlib>=2.0.0->scikit-multiflow) (1.15.0)\n"
     ]
    }
   ],
   "source": [
    "!pip install -U scikit-multiflow"
   ]
  },
  {
   "cell_type": "markdown",
   "metadata": {
    "colab_type": "text",
    "id": "bfEKv4NEM54_"
   },
   "source": [
    "Generate synthetic data stream using SEAGenerator and then evaluate the stream using the HoeffdingTree. We use a holdout mechansime to evaluate the results. The evaluation metrics used to evaluate this was accuracy and kappa.\n",
    "\n",
    "The holdout evaluation method, or periodic holdout evaluation method, analyses each arriving sample by updating its statistics, without computing performance metrics, nor predicting labels or regression values.\n",
    "\n",
    "The performance evaluation happens at every n_wait analysed samples, at which moment the evaluator will test the learners performance on a test set, formed by yet unseen samples, which will be used to evaluate performance, but not to train the model.\n",
    "\n",
    "```\n",
    "class skmultiflow.evaluation.evaluate_holdout.EvaluateHoldout(n_wait=10000 (default), max_samples=100000, batch_size=1, max_time=inf, metrics=None, output_file=None, show_plot=False, restart_stream=True, test_size=5000, dynamic_test_set=False)\n",
    "\n",
    "```\n",
    "\n",
    "What do you observe from the outcome of the code below?\n",
    "\n",
    "\n"
   ]
  },
  {
   "cell_type": "code",
   "execution_count": 2,
   "metadata": {
    "colab": {},
    "colab_type": "code",
    "id": "KWrjZZS4ke7R"
   },
   "outputs": [
    {
     "name": "stdout",
     "output_type": "stream",
     "text": [
      "Holdout Evaluation\n",
      "Evaluating 1 target(s).\n",
      "Evaluating...\n",
      " #------------------- [5%] [0.33s]Separating 5000 holdout samples.\n",
      " ####---------------- [20%] [1.41s]Separating 5000 holdout samples.\n",
      " #######------------- [35%] [2.90s]Separating 5000 holdout samples.\n",
      " ##########---------- [50%] [4.03s]Separating 5000 holdout samples.\n",
      " #############------- [65%] [5.18s]Separating 5000 holdout samples.\n",
      " ################---- [80%] [6.23s]Separating 5000 holdout samples.\n",
      " #################### [100%] [7.61s]\n",
      "Separating 5000 holdout samples.\n",
      "Processed samples: 105000\n",
      "Mean performance:\n",
      "HT - Accuracy     : 0.9874\n",
      "HT - Kappa        : 0.9711\n"
     ]
    },
    {
     "data": {
      "text/plain": [
       "[HoeffdingTree(binary_split=False, grace_period=200, leaf_prediction='nba',\n",
       "               max_byte_size=33554432, memory_estimate_period=1000000,\n",
       "               nb_threshold=0, no_preprune=False, nominal_attributes=None,\n",
       "               remove_poor_atts=False, split_confidence=1e-07,\n",
       "               split_criterion='info_gain', stop_mem_management=False,\n",
       "               tie_threshold=0.05)]"
      ]
     },
     "execution_count": 2,
     "metadata": {},
     "output_type": "execute_result"
    }
   ],
   "source": [
    "from skmultiflow.data import SEAGenerator\n",
    "from skmultiflow.trees import HoeffdingTree\n",
    "from skmultiflow.evaluation import EvaluateHoldout\n",
    "\n",
    "# Set the stream\n",
    "stream = SEAGenerator(random_state=1)\n",
    "stream.prepare_for_use()\n",
    "\n",
    "# Set the model\n",
    "ht = HoeffdingTree()\n",
    "\n",
    "# Set the evaluator\n",
    "evaluator = EvaluateHoldout(max_samples=100000,\n",
    "                            max_time=1000,\n",
    "                            show_plot=False,\n",
    "                            metrics=['accuracy', 'kappa'],\n",
    "                            dynamic_test_set=True)\n",
    "\n",
    "# Run evaluation\n",
    "evaluator.evaluate(stream=stream, model=ht, model_names=['HT'])"
   ]
  },
  {
   "cell_type": "markdown",
   "metadata": {
    "colab_type": "text",
    "id": "U9UuKnRYORcc"
   },
   "source": [
    "The prequential evaluation method, or interleaved test-then-train method, is an alternative to the traditional holdout evaluation, inherited from batch setting problems.\n",
    "\n",
    "The prequential evaluation is designed specifically for stream settings, in the sense that each sample serves two purposes, and that samples are analysed sequentially, in order of arrival, and become immediately inaccessible.\n",
    "\n",
    "\n",
    "\n",
    "```\n",
    "class skmultiflow.evaluation.evaluate_prequential.EvaluatePrequential(n_wait=200, max_samples=100000, batch_size=1, pretrain_size=200, max_time=inf, metrics=None, output_file=None, show_plot=False, restart_stream=True, data_points_for_classification=False\n",
    "```\n",
    "\n"
   ]
  },
  {
   "cell_type": "code",
   "execution_count": 3,
   "metadata": {
    "colab": {},
    "colab_type": "code",
    "id": "6Y6WKccptsQq"
   },
   "outputs": [
    {
     "name": "stdout",
     "output_type": "stream",
     "text": [
      "Prequential Evaluation\n",
      "Evaluating 1 target(s).\n",
      "Pre-training on 200 sample(s).\n",
      "Evaluating...\n",
      " #################### [100%] [2.02s]\n",
      "Processed samples: 10000\n",
      "Mean performance:\n",
      "HT - Accuracy     : 0.9611\n",
      "HT - Kappa        : 0.9091\n"
     ]
    },
    {
     "data": {
      "text/plain": [
       "[HoeffdingTree(binary_split=False, grace_period=200, leaf_prediction='nba',\n",
       "               max_byte_size=33554432, memory_estimate_period=1000000,\n",
       "               nb_threshold=0, no_preprune=False, nominal_attributes=None,\n",
       "               remove_poor_atts=False, split_confidence=1e-07,\n",
       "               split_criterion='info_gain', stop_mem_management=False,\n",
       "               tie_threshold=0.05)]"
      ]
     },
     "execution_count": 3,
     "metadata": {},
     "output_type": "execute_result"
    }
   ],
   "source": [
    "from skmultiflow.data import SEAGenerator\n",
    "from skmultiflow.trees import HoeffdingTree\n",
    "from skmultiflow.evaluation import EvaluatePrequential\n",
    "\n",
    "# Set the stream\n",
    "stream = SEAGenerator(random_state=1)\n",
    "stream.prepare_for_use()\n",
    "\n",
    "# Set the model\n",
    "ht = HoeffdingTree()\n",
    "\n",
    "# Set the evaluator\n",
    "\n",
    "evaluator = EvaluatePrequential(max_samples=10000,\n",
    "                                max_time=1000,\n",
    "                                show_plot=False,\n",
    "                                metrics=['accuracy', 'kappa'])\n",
    "\n",
    "\n",
    "# Run evaluation\n",
    "evaluator.evaluate(stream=stream, model=ht, model_names=['HT'])\n"
   ]
  },
  {
   "cell_type": "code",
   "execution_count": 4,
   "metadata": {
    "colab": {},
    "colab_type": "code",
    "id": "mTQP4nykqkN6"
   },
   "outputs": [
    {
     "name": "stdout",
     "output_type": "stream",
     "text": [
      "Prequential Evaluation\n",
      "Evaluating 1 target(s).\n",
      "Pre-training on 200 sample(s).\n",
      "Evaluating...\n",
      " #################### [100%] [5.30s]\n",
      "Processed samples: 10000\n",
      "Mean performance:\n",
      "HT - Accuracy     : 0.9611\n",
      "HT - Kappa        : 0.9091\n",
      "hat - Accuracy     : 0.9110\n",
      "hat - Kappa        : 0.7941\n"
     ]
    },
    {
     "data": {
      "text/plain": [
       "[HoeffdingTree(binary_split=False, grace_period=200, leaf_prediction='nba',\n",
       "               max_byte_size=33554432, memory_estimate_period=1000000,\n",
       "               nb_threshold=0, no_preprune=False, nominal_attributes=None,\n",
       "               remove_poor_atts=False, split_confidence=1e-07,\n",
       "               split_criterion='info_gain', stop_mem_management=False,\n",
       "               tie_threshold=0.05),\n",
       " HAT(binary_split=False, grace_period=200, leaf_prediction='nba',\n",
       "     max_byte_size=33554432, memory_estimate_period=1000000, nb_threshold=0,\n",
       "     no_preprune=False, nominal_attributes=None, remove_poor_atts=False,\n",
       "     split_confidence=1e-07, split_criterion='info_gain',\n",
       "     stop_mem_management=False, tie_threshold=0.05)]"
      ]
     },
     "execution_count": 4,
     "metadata": {},
     "output_type": "execute_result"
    }
   ],
   "source": [
    "from skmultiflow.data import SEAGenerator\n",
    "from skmultiflow.trees import HoeffdingTree\n",
    "from skmultiflow.trees.hoeffding_adaptive_tree import HAT\n",
    "from skmultiflow.evaluation import EvaluatePrequential\n",
    "\n",
    "\n",
    "# Set the stream\n",
    "stream = SEAGenerator(random_state=1)\n",
    "stream.prepare_for_use()\n",
    "\n",
    "# Set the model\n",
    "ht = HoeffdingTree()\n",
    "hat = HAT()\n",
    "\n",
    "# Set the evaluator\n",
    "\n",
    "evaluator = EvaluatePrequential(max_samples=10000,\n",
    "                                max_time=1000,\n",
    "                                show_plot=False,\n",
    "                                metrics=['accuracy', 'kappa'],data_points_for_classification=False)\n",
    "\n",
    "\n",
    "# Run evaluation\n",
    "evaluator.evaluate(stream=stream, model=[ht, hat], model_names=['HT', 'hat'])\n",
    "\n",
    "\n",
    "\n"
   ]
  },
  {
   "cell_type": "code",
   "execution_count": 4,
   "metadata": {
    "colab": {},
    "colab_type": "code",
    "id": "-GlmKjOYrzaW"
   },
   "outputs": [],
   "source": [
    "\n"
   ]
  }
 ],
 "metadata": {
  "colab": {
   "include_colab_link": true,
   "name": "DataStreamEvaluation.ipynb",
   "provenance": [],
   "version": "0.3.2"
  },
  "kernelspec": {
   "display_name": "Python 3",
   "language": "python",
   "name": "python3"
  },
  "language_info": {
   "codemirror_mode": {
    "name": "ipython",
    "version": 3
   },
   "file_extension": ".py",
   "mimetype": "text/x-python",
   "name": "python",
   "nbconvert_exporter": "python",
   "pygments_lexer": "ipython3",
   "version": "3.7.0"
  }
 },
 "nbformat": 4,
 "nbformat_minor": 1
}