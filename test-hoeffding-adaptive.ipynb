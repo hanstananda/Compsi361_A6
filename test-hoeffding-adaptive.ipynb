{
 "cells": [
  {
   "cell_type": "code",
   "execution_count": 3,
   "metadata": {
    "pycharm": {
     "name": "#%%\n"
    }
   },
   "outputs": [],
   "source": [
    "from scipy.io import arff\n",
    "import pandas as pd\n",
    "from sklearn.preprocessing import LabelEncoder"
   ]
  },
  {
   "cell_type": "markdown",
   "metadata": {},
   "source": [
    "# Load and preprocess data\n"
   ]
  },
  {
   "cell_type": "code",
   "execution_count": 4,
   "metadata": {
    "pycharm": {
     "name": "#%%\n"
    }
   },
   "outputs": [
    {
     "name": "stdout",
     "output_type": "stream",
     "text": [
      "date         float64\n",
      "day           object\n",
      "period       float64\n",
      "nswprice     float64\n",
      "nswdemand    float64\n",
      "vicprice     float64\n",
      "vicdemand    float64\n",
      "transfer     float64\n",
      "class         object\n",
      "dtype: object\n",
      "   date   day    period  nswprice  nswdemand  vicprice  vicdemand  transfer  \\\n",
      "0   0.0  b'2'  0.000000  0.056443   0.439155  0.003467   0.422915  0.414912   \n",
      "1   0.0  b'2'  0.021277  0.051699   0.415055  0.003467   0.422915  0.414912   \n",
      "2   0.0  b'2'  0.042553  0.051489   0.385004  0.003467   0.422915  0.414912   \n",
      "3   0.0  b'2'  0.063830  0.045485   0.314639  0.003467   0.422915  0.414912   \n",
      "4   0.0  b'2'  0.085106  0.042482   0.251116  0.003467   0.422915  0.414912   \n",
      "\n",
      "     class  \n",
      "0    b'UP'  \n",
      "1    b'UP'  \n",
      "2    b'UP'  \n",
      "3    b'UP'  \n",
      "4  b'DOWN'  \n"
     ]
    }
   ],
   "source": [
    "data = arff.loadarff(\"elecNormNew.arff\")\n",
    "df = pd.DataFrame(data[0])\n",
    "\n",
    "print(df.dtypes)\n",
    "print(df.head())"
   ]
  },
  {
   "cell_type": "code",
   "execution_count": 5,
   "metadata": {
    "pycharm": {
     "name": "#%%\n"
    }
   },
   "outputs": [
    {
     "name": "stdout",
     "output_type": "stream",
     "text": [
      "date         float64\n",
      "day             int8\n",
      "period       float64\n",
      "nswprice     float64\n",
      "nswdemand    float64\n",
      "vicprice     float64\n",
      "vicdemand    float64\n",
      "transfer     float64\n",
      "class         object\n",
      "dtype: object\n",
      "   date  day    period  nswprice  nswdemand  vicprice  vicdemand  transfer  \\\n",
      "0   0.0    2  0.000000  0.056443   0.439155  0.003467   0.422915  0.414912   \n",
      "1   0.0    2  0.021277  0.051699   0.415055  0.003467   0.422915  0.414912   \n",
      "2   0.0    2  0.042553  0.051489   0.385004  0.003467   0.422915  0.414912   \n",
      "3   0.0    2  0.063830  0.045485   0.314639  0.003467   0.422915  0.414912   \n",
      "4   0.0    2  0.085106  0.042482   0.251116  0.003467   0.422915  0.414912   \n",
      "\n",
      "     class  \n",
      "0    b'UP'  \n",
      "1    b'UP'  \n",
      "2    b'UP'  \n",
      "3    b'UP'  \n",
      "4  b'DOWN'  \n"
     ]
    }
   ],
   "source": [
    "df = df.astype({'day': 'int8'})\n",
    "print(df.dtypes)\n",
    "print(df.head())"
   ]
  },
  {
   "cell_type": "code",
   "execution_count": 6,
   "metadata": {
    "pycharm": {
     "name": "#%%\n"
    }
   },
   "outputs": [],
   "source": [
    "from skmultiflow.data import DataStream\n",
    "from skmultiflow.evaluation import EvaluatePrequential\n",
    "from skmultiflow.trees import HoeffdingTree\n",
    "from skmultiflow.trees import HAT\n",
    "\n",
    "enc = LabelEncoder()\n",
    "class_num = enc.fit_transform(df[\"class\"])\n",
    "stream = DataStream(df.drop([\"class\"], axis=1), y = class_num)\n",
    "stream.prepare_for_use()\n"
   ]
  },
  {
   "cell_type": "code",
   "execution_count": 7,
   "metadata": {
    "pycharm": {
     "name": "#%%\n"
    }
   },
   "outputs": [
    {
     "name": "stdout",
     "output_type": "stream",
     "text": [
      "1 target(s), 2 classes\n",
      "[0]\n",
      "['date', 'day', 'period', 'nswprice', 'nswdemand', 'vicprice', 'vicdemand', 'transfer']\n"
     ]
    }
   ],
   "source": [
    "print(stream.get_data_info())\n",
    "print(stream.target_names)\n",
    "print(stream.feature_names)"
   ]
  },
  {
   "cell_type": "markdown",
   "metadata": {},
   "source": [
    "# Set the evaluator"
   ]
  },
  {
   "cell_type": "code",
   "execution_count": 11,
   "metadata": {
    "pycharm": {
     "name": "#%%\n"
    }
   },
   "outputs": [],
   "source": [
    "evaluator = EvaluatePrequential(show_plot=False,\n",
    "                                metrics=['accuracy', 'kappa'])"
   ]
  },
  {
   "cell_type": "markdown",
   "metadata": {},
   "source": [
    "# Set the model"
   ]
  },
  {
   "cell_type": "code",
   "execution_count": 24,
   "metadata": {},
   "outputs": [],
   "source": [
    "ht = HoeffdingTree()\n",
    "hat = HAT()"
   ]
  },
  {
   "cell_type": "markdown",
   "metadata": {},
   "source": [
    "# Run evaluation"
   ]
  },
  {
   "cell_type": "code",
   "execution_count": 25,
   "metadata": {
    "scrolled": true
   },
   "outputs": [
    {
     "name": "stdout",
     "output_type": "stream",
     "text": [
      "Prequential Evaluation\n",
      "Evaluating 1 target(s).\n",
      "Pre-training on 200 sample(s).\n",
      "Evaluating...\n",
      " #################### [100%] [33.00s]\n",
      "Processed samples: 45312\n",
      "Mean performance:\n",
      "ht - Accuracy     : 0.8030\n",
      "ht - Kappa        : 0.5982\n",
      "hat - Accuracy     : 0.8164\n",
      "hat - Kappa        : 0.6158\n"
     ]
    },
    {
     "data": {
      "text/plain": [
       "[HoeffdingTree(binary_split=False, grace_period=200, leaf_prediction='nba',\n",
       "               max_byte_size=33554432, memory_estimate_period=1000000,\n",
       "               nb_threshold=0, no_preprune=False, nominal_attributes=None,\n",
       "               remove_poor_atts=False, split_confidence=1e-07,\n",
       "               split_criterion='info_gain', stop_mem_management=False,\n",
       "               tie_threshold=0.05),\n",
       " HAT(binary_split=False, grace_period=200, leaf_prediction='nba',\n",
       "     max_byte_size=33554432, memory_estimate_period=1000000, nb_threshold=0,\n",
       "     no_preprune=False, nominal_attributes=None, remove_poor_atts=False,\n",
       "     split_confidence=1e-07, split_criterion='info_gain',\n",
       "     stop_mem_management=False, tie_threshold=0.05)]"
      ]
     },
     "execution_count": 25,
     "metadata": {},
     "output_type": "execute_result"
    }
   ],
   "source": [
    "evaluator.evaluate(stream=stream,\n",
    "                   model=[ht, hat],\n",
    "                   model_names = [\"ht\",\"hat\"])\n"
   ]
  },
  {
   "cell_type": "markdown",
   "metadata": {},
   "source": [
    "# Set the model"
   ]
  },
  {
   "cell_type": "code",
   "execution_count": 22,
   "metadata": {
    "pycharm": {
     "name": "#%%\n"
    }
   },
   "outputs": [],
   "source": [
    "hat = HAT()\n",
    "hat_lp_nb = HAT(leaf_prediction=\"nb\")\n",
    "hat_lp_mc = HAT(leaf_prediction=\"mc\")\n",
    "hat_gini = HAT(split_criterion=\"gini\")"
   ]
  },
  {
   "cell_type": "code",
   "execution_count": 23,
   "metadata": {
    "pycharm": {
     "name": "#%%\n"
    },
    "scrolled": true
   },
   "outputs": [
    {
     "name": "stdout",
     "output_type": "stream",
     "text": [
      "Prequential Evaluation\n",
      "Evaluating 1 target(s).\n",
      "Pre-training on 200 sample(s).\n",
      "Evaluating...\n",
      " #################### [100%] [75.29s]\n",
      "Processed samples: 45312\n",
      "Mean performance:\n",
      "hat - Accuracy     : 0.8164\n",
      "hat - Kappa        : 0.6158\n",
      "hat_lp_nb - Accuracy     : 0.8072\n",
      "hat_lp_nb - Kappa        : 0.5987\n",
      "hat_lp_mc - Accuracy     : 0.7356\n",
      "hat_lp_mc - Kappa        : 0.4542\n",
      "hat_gini - Accuracy     : 0.8111\n",
      "hat_gini - Kappa        : 0.6075\n"
     ]
    },
    {
     "data": {
      "text/plain": [
       "[HAT(binary_split=False, grace_period=200, leaf_prediction='nba',\n",
       "     max_byte_size=33554432, memory_estimate_period=1000000, nb_threshold=0,\n",
       "     no_preprune=False, nominal_attributes=None, remove_poor_atts=False,\n",
       "     split_confidence=1e-07, split_criterion='info_gain',\n",
       "     stop_mem_management=False, tie_threshold=0.05),\n",
       " HAT(binary_split=False, grace_period=200, leaf_prediction='nb',\n",
       "     max_byte_size=33554432, memory_estimate_period=1000000, nb_threshold=0,\n",
       "     no_preprune=False, nominal_attributes=None, remove_poor_atts=False,\n",
       "     split_confidence=1e-07, split_criterion='info_gain',\n",
       "     stop_mem_management=False, tie_threshold=0.05),\n",
       " HAT(binary_split=False, grace_period=200, leaf_prediction='mc',\n",
       "     max_byte_size=33554432, memory_estimate_period=1000000, nb_threshold=0,\n",
       "     no_preprune=False, nominal_attributes=None, remove_poor_atts=False,\n",
       "     split_confidence=1e-07, split_criterion='info_gain',\n",
       "     stop_mem_management=False, tie_threshold=0.05),\n",
       " HAT(binary_split=False, grace_period=200, leaf_prediction='nba',\n",
       "     max_byte_size=33554432, memory_estimate_period=1000000, nb_threshold=0,\n",
       "     no_preprune=False, nominal_attributes=None, remove_poor_atts=False,\n",
       "     split_confidence=1e-07, split_criterion='gini', stop_mem_management=False,\n",
       "     tie_threshold=0.05)]"
      ]
     },
     "execution_count": 23,
     "metadata": {},
     "output_type": "execute_result"
    }
   ],
   "source": [
    "evaluator.evaluate(stream=stream,\n",
    "                   model=[hat, hat_lp_nb, hat_lp_mc, hat_gini],\n",
    "                   model_names = [\"hat\",\"hat_lp_nb\",\"hat_lp_mc\", \"hat_gini\"])\n"
   ]
  },
  {
   "cell_type": "markdown",
   "metadata": {},
   "source": [
    "# Set the model"
   ]
  },
  {
   "cell_type": "code",
   "execution_count": 18,
   "metadata": {},
   "outputs": [],
   "source": [
    "hat = HAT()\n",
    "\n",
    "hat_binary_split = HAT(binary_split =True) \n",
    "# ht_remove_poor_atts = HoeffdingTree(remove_poor_atts=True) # Error? \n",
    "hat_no_preprune = HAT(no_preprune =True)\n",
    "hat_stop_mem_management = HAT(stop_mem_management =True)"
   ]
  },
  {
   "cell_type": "code",
   "execution_count": 19,
   "metadata": {
    "scrolled": true
   },
   "outputs": [
    {
     "name": "stdout",
     "output_type": "stream",
     "text": [
      "Prequential Evaluation\n",
      "Evaluating 1 target(s).\n",
      "Pre-training on 200 sample(s).\n",
      "Evaluating...\n",
      " #################### [100%] [79.51s]\n",
      "Processed samples: 45312\n",
      "Mean performance:\n",
      "hat - Accuracy     : 0.8164\n",
      "hat - Kappa        : 0.6158\n",
      "hat_binary_split - Accuracy     : 0.8164\n",
      "hat_binary_split - Kappa        : 0.6158\n",
      "hat_no_preprune - Accuracy     : 0.8164\n",
      "hat_no_preprune - Kappa        : 0.6158\n",
      "hat_stop_mem_management - Accuracy     : 0.8164\n",
      "hat_stop_mem_management - Kappa        : 0.6158\n"
     ]
    },
    {
     "data": {
      "text/plain": [
       "[HAT(binary_split=False, grace_period=200, leaf_prediction='nba',\n",
       "     max_byte_size=33554432, memory_estimate_period=1000000, nb_threshold=0,\n",
       "     no_preprune=False, nominal_attributes=None, remove_poor_atts=False,\n",
       "     split_confidence=1e-07, split_criterion='info_gain',\n",
       "     stop_mem_management=False, tie_threshold=0.05),\n",
       " HAT(binary_split=True, grace_period=200, leaf_prediction='nba',\n",
       "     max_byte_size=33554432, memory_estimate_period=1000000, nb_threshold=0,\n",
       "     no_preprune=False, nominal_attributes=None, remove_poor_atts=False,\n",
       "     split_confidence=1e-07, split_criterion='info_gain',\n",
       "     stop_mem_management=False, tie_threshold=0.05),\n",
       " HAT(binary_split=False, grace_period=200, leaf_prediction='nba',\n",
       "     max_byte_size=33554432, memory_estimate_period=1000000, nb_threshold=0,\n",
       "     no_preprune=True, nominal_attributes=None, remove_poor_atts=False,\n",
       "     split_confidence=1e-07, split_criterion='info_gain',\n",
       "     stop_mem_management=False, tie_threshold=0.05),\n",
       " HAT(binary_split=False, grace_period=200, leaf_prediction='nba',\n",
       "     max_byte_size=33554432, memory_estimate_period=1000000, nb_threshold=0,\n",
       "     no_preprune=False, nominal_attributes=None, remove_poor_atts=False,\n",
       "     split_confidence=1e-07, split_criterion='info_gain',\n",
       "     stop_mem_management=True, tie_threshold=0.05)]"
      ]
     },
     "execution_count": 19,
     "metadata": {},
     "output_type": "execute_result"
    }
   ],
   "source": [
    "evaluator.evaluate(stream=stream,\n",
    "                   model=[hat, hat_binary_split, hat_no_preprune, hat_stop_mem_management],\n",
    "                   model_names = [\"hat\",\"hat_binary_split\", \"hat_no_preprune\",\"hat_stop_mem_management\"])"
   ]
  },
  {
   "cell_type": "markdown",
   "metadata": {},
   "source": [
    "# Set the model"
   ]
  },
  {
   "cell_type": "code",
   "execution_count": 30,
   "metadata": {},
   "outputs": [],
   "source": [
    "hat = HAT()\n",
    "hat_high_mem = HAT(memory_estimate_period =10000, \n",
    "                           max_byte_size = 2**28) # Around 128MB\n",
    "hat_low_mem = HAT(memory_estimate_period =10000, \n",
    "                           max_byte_size = 2**12) # Around 4MB\n",
    "hat_grace_100 = HAT(grace_period =100)\n",
    "hat_grace_50 = HAT(grace_period =50)\n",
    "hat_grace_10 = HAT(grace_period =10)\n",
    "hat_grace_1 = HAT(grace_period =1)"
   ]
  },
  {
   "cell_type": "code",
   "execution_count": 31,
   "metadata": {},
   "outputs": [
    {
     "name": "stdout",
     "output_type": "stream",
     "text": [
      "Prequential Evaluation\n",
      "Evaluating 1 target(s).\n",
      "Pre-training on 200 sample(s).\n",
      "Evaluating...\n",
      " #################### [100%] [159.67s]\n",
      "Processed samples: 45312\n",
      "Mean performance:\n",
      "hat - Accuracy     : 0.8164\n",
      "hat - Kappa        : 0.6158\n",
      "hat_high_mem - Accuracy     : 0.8164\n",
      "hat_high_mem - Kappa        : 0.6158\n",
      "hat_low_mem - Accuracy     : 0.8164\n",
      "hat_low_mem - Kappa        : 0.6158\n",
      "hat_grace_100 - Accuracy     : 0.8195\n",
      "hat_grace_100 - Kappa        : 0.6244\n",
      "hat_grace_50 - Accuracy     : 0.8194\n",
      "hat_grace_50 - Kappa        : 0.6238\n",
      "hat_grace_10 - Accuracy     : 0.8137\n",
      "hat_grace_10 - Kappa        : 0.6108\n",
      "hat_grace_1 - Accuracy     : 0.5727\n",
      "hat_grace_1 - Kappa        : 0.0073\n"
     ]
    },
    {
     "data": {
      "text/plain": [
       "[HAT(binary_split=False, grace_period=200, leaf_prediction='nba',\n",
       "     max_byte_size=33554432, memory_estimate_period=1000000, nb_threshold=0,\n",
       "     no_preprune=False, nominal_attributes=None, remove_poor_atts=False,\n",
       "     split_confidence=1e-07, split_criterion='info_gain',\n",
       "     stop_mem_management=False, tie_threshold=0.05),\n",
       " HAT(binary_split=False, grace_period=200, leaf_prediction='nba',\n",
       "     max_byte_size=268435456, memory_estimate_period=10000, nb_threshold=0,\n",
       "     no_preprune=False, nominal_attributes=None, remove_poor_atts=False,\n",
       "     split_confidence=1e-07, split_criterion='info_gain',\n",
       "     stop_mem_management=False, tie_threshold=0.05),\n",
       " HAT(binary_split=False, grace_period=200, leaf_prediction='nba',\n",
       "     max_byte_size=4096, memory_estimate_period=10000, nb_threshold=0,\n",
       "     no_preprune=False, nominal_attributes=None, remove_poor_atts=False,\n",
       "     split_confidence=1e-07, split_criterion='info_gain',\n",
       "     stop_mem_management=False, tie_threshold=0.05),\n",
       " HAT(binary_split=False, grace_period=100, leaf_prediction='nba',\n",
       "     max_byte_size=33554432, memory_estimate_period=1000000, nb_threshold=0,\n",
       "     no_preprune=False, nominal_attributes=None, remove_poor_atts=False,\n",
       "     split_confidence=1e-07, split_criterion='info_gain',\n",
       "     stop_mem_management=False, tie_threshold=0.05),\n",
       " HAT(binary_split=False, grace_period=50, leaf_prediction='nba',\n",
       "     max_byte_size=33554432, memory_estimate_period=1000000, nb_threshold=0,\n",
       "     no_preprune=False, nominal_attributes=None, remove_poor_atts=False,\n",
       "     split_confidence=1e-07, split_criterion='info_gain',\n",
       "     stop_mem_management=False, tie_threshold=0.05),\n",
       " HAT(binary_split=False, grace_period=10, leaf_prediction='nba',\n",
       "     max_byte_size=33554432, memory_estimate_period=1000000, nb_threshold=0,\n",
       "     no_preprune=False, nominal_attributes=None, remove_poor_atts=False,\n",
       "     split_confidence=1e-07, split_criterion='info_gain',\n",
       "     stop_mem_management=False, tie_threshold=0.05),\n",
       " HAT(binary_split=False, grace_period=1, leaf_prediction='nba',\n",
       "     max_byte_size=33554432, memory_estimate_period=1000000, nb_threshold=0,\n",
       "     no_preprune=False, nominal_attributes=None, remove_poor_atts=False,\n",
       "     split_confidence=1e-07, split_criterion='info_gain',\n",
       "     stop_mem_management=False, tie_threshold=0.05)]"
      ]
     },
     "execution_count": 31,
     "metadata": {},
     "output_type": "execute_result"
    }
   ],
   "source": [
    "evaluator.evaluate(stream=stream,\n",
    "                   model=[hat, hat_high_mem, hat_low_mem, hat_grace_100, hat_grace_50, hat_grace_10, hat_grace_1],\n",
    "                   model_names = [\"hat\",\"hat_high_mem\", \"hat_low_mem\",\"hat_grace_100\", \"hat_grace_50\", \"hat_grace_10\", \"hat_grace_1\"])"
   ]
  },
  {
   "cell_type": "code",
   "execution_count": null,
   "metadata": {},
   "outputs": [],
   "source": []
  },
  {
   "cell_type": "code",
   "execution_count": null,
   "metadata": {},
   "outputs": [],
   "source": []
  }
 ],
 "metadata": {
  "kernelspec": {
   "display_name": "Python 3",
   "language": "python",
   "name": "python3"
  },
  "language_info": {
   "codemirror_mode": {
    "name": "ipython",
    "version": 3
   },
   "file_extension": ".py",
   "mimetype": "text/x-python",
   "name": "python",
   "nbconvert_exporter": "python",
   "pygments_lexer": "ipython3",
   "version": "3.7.0"
  }
 },
 "nbformat": 4,
 "nbformat_minor": 4
}
